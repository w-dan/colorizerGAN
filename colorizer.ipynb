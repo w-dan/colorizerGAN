{
  "nbformat": 4,
  "nbformat_minor": 0,
  "metadata": {
    "colab": {
      "provenance": []
    },
    "kernelspec": {
      "name": "python3",
      "display_name": "Python 3"
    },
    "language_info": {
      "name": "python"
    }
  },
  "cells": [
    {
      "cell_type": "markdown",
      "source": [
        "# Image coloring using Generative Adversarial Networks\n",
        "\n",
        "Authors:\n",
        "- Daniel García Algora\n",
        "- David García Guillén\n",
        "- Carlos Hernández López\n",
        "- Álvaro Tena Tamayo\n",
        "\n",
        "---"
      ],
      "metadata": {
        "id": "gZmVQfJsfrYY"
      }
    },
    {
      "cell_type": "code",
      "execution_count": 220,
      "metadata": {
        "id": "dvqMPp3DfmTk"
      },
      "outputs": [],
      "source": [
        "import os\n",
        "import sys\n",
        "import numpy as np\n",
        "import matplotlib.pyplot as plt\n",
        "from datetime import datetime\n",
        "from time import time\n",
        "from skimage.color import rgb2lab, lab2rgb\n",
        "from keras.datasets import cifar10\n",
        "import cv2\n",
        "from joblib import Parallel, delayed\n",
        "\n",
        "import tensorflow as tf\n",
        "\n",
        "from tensorflow.keras.layers import (\n",
        "    Activation, AveragePooling2D, BatchNormalization, Conv2D, Conv2DTranspose,\n",
        "    Dense, Dropout, Flatten, Input, LeakyReLU, ReLU, UpSampling2D)\n",
        "\n",
        "\n",
        "\n",
        "from tensorflow.keras.datasets import cifar10\n",
        "from tensorflow.keras.models import Sequential, Model"
      ]
    },
    {
      "cell_type": "markdown",
      "source": [
        "### Image preprocessing\n",
        "\n",
        "For the time being, we will be using the CIFAR-10 dataset (32x32)"
      ],
      "metadata": {
        "id": "EviFD9IuYqyJ"
      }
    },
    {
      "cell_type": "code",
      "source": [
        "(x_train, y_train), (x_test, y_test) = cifar10.load_data()\n",
        "assert x_train.shape == (50000, 32, 32, 3)\n",
        "assert x_test.shape == (10000, 32, 32, 3)\n",
        "assert y_train.shape == (50000, 1)\n",
        "assert y_test.shape == (10000, 1)\n"
      ],
      "metadata": {
        "id": "DW7qZSr7YY5h"
      },
      "execution_count": 221,
      "outputs": []
    },
    {
      "cell_type": "code",
      "source": [
        "def rgb_to_grayscale(images):\n",
        "    \"\"\"\n",
        "    Converts RGB image list to convert to grayscale.\n",
        "\n",
        "    Args:\n",
        "    images (list of numpy arrays): RGB image list.\n",
        "\n",
        "    Returns:\n",
        "    list of numpy arrays: grayscale image list.\n",
        "    \"\"\"\n",
        "    grayscale_images = []\n",
        "    for img in images:\n",
        "        grayscale_img = np.dot(img[...,:3], [0.2989, 0.5870, 0.1140])\n",
        "        grayscale_images.append(grayscale_img)\n",
        "    return grayscale_images"
      ],
      "metadata": {
        "id": "1J3omd1tJxQ9"
      },
      "execution_count": 222,
      "outputs": []
    },
    {
      "cell_type": "code",
      "source": [
        "x_train_gray = rgb_to_grayscale(x_train)\n",
        "x_test_gray = rgb_to_grayscale(x_test)"
      ],
      "metadata": {
        "id": "WpiaPod0KqEf"
      },
      "execution_count": 223,
      "outputs": []
    },
    {
      "cell_type": "code",
      "source": [
        "import numpy as np\n",
        "import matplotlib.pyplot as plt\n",
        "\n",
        "def show_random_image(x_data_gray, x_data_color, dataset_name, title=None, cmap=None):\n",
        "    \"\"\"\n",
        "    Muestra una imagen aleatoria de un conjunto de datos.\n",
        "\n",
        "    Args:\n",
        "    x_data (numpy array): Dataset containing images.\n",
        "    dataset_name (str): Dataset's name.\n",
        "    title (str, opcional): Image title.\n",
        "    cmap (str, opcional): Colour map.\n",
        "\n",
        "    Returns:\n",
        "    None\n",
        "    \"\"\"\n",
        "    # select random image\n",
        "    random_index = np.random.randint(0, len(x_data_gray))\n",
        "    random_image_gray = x_data_gray[random_index]\n",
        "    random_image_color = x_data_color[random_index]\n",
        "\n",
        "    # plot gray image\n",
        "    plt.imshow(random_image_gray, cmap=cmap)\n",
        "    plt.axis('off')\n",
        "    if title:\n",
        "        plt.title(title)\n",
        "    plt.suptitle(f'Random {dataset_name} image')\n",
        "    plt.show()\n",
        "\n",
        "     # plot colored image\n",
        "    plt.imshow(random_image_color, cmap=cmap)\n",
        "    plt.axis('off')\n",
        "    if title:\n",
        "        plt.title(title)\n",
        "    plt.suptitle(f'Random {dataset_name} image')\n",
        "    plt.show()"
      ],
      "metadata": {
        "id": "G9ol1SqdKVvi"
      },
      "execution_count": 224,
      "outputs": []
    },
    {
      "cell_type": "code",
      "source": [
        "class Dataset:\n",
        "    def __init__(self, x, y):\n",
        "        self.x = x\n",
        "        self.y = y\n",
        "\n",
        "    def __iter__(self):\n",
        "      return iter(zip(self.x, self.y))"
      ],
      "metadata": {
        "id": "t7f3ftypMjIg"
      },
      "execution_count": 225,
      "outputs": []
    },
    {
      "cell_type": "code",
      "source": [
        "train_dataset = Dataset(x_train_gray, x_train)\n",
        "test_dataset = Dataset(x_test_gray, x_test)\n",
        "\n",
        "training_data = train_dataset.x"
      ],
      "metadata": {
        "id": "y0HoLpTyMkpF"
      },
      "execution_count": 226,
      "outputs": []
    },
    {
      "cell_type": "code",
      "source": [
        "show_random_image(train_dataset.x, train_dataset.y, 'train', title=\"Random training image\")"
      ],
      "metadata": {
        "colab": {
          "base_uri": "https://localhost:8080/",
          "height": 891
        },
        "id": "ReryMqysN888",
        "outputId": "42eb0268-5812-4d56-d88a-b177975e6a4f"
      },
      "execution_count": 227,
      "outputs": [
        {
          "output_type": "display_data",
          "data": {
            "text/plain": [
              "<Figure size 640x480 with 1 Axes>"
            ],
            "image/png": "[encoded data removed]"
          },
          "metadata": {}
        },
        {
          "output_type": "display_data",
          "data": {
            "text/plain": [
              "<Figure size 640x480 with 1 Axes>"
            ],
            "image/png": "[encoded data removed]"
          },
          "metadata": {}
        }
      ]
    },
    {
      "cell_type": "markdown",
      "source": [
        "## Model definition (convolutional)"
      ],
      "metadata": {
        "id": "lkNAWDjpYscR"
      }
    },
    {
      "cell_type": "code",
      "source": [
        "from keras.layers import Reshape\n",
        "\n",
        "def make_generator_model():\n",
        "    model = Sequential()\n",
        "    # Agrega una capa de redimensión para convertir las entradas de (32, 32) a (32, 32, 1)\n",
        "    model.add(Reshape((32, 32, 1), input_shape=(32, 32, 1)))\n",
        "\n",
        "    model.add(Conv2D(32, (3, 3), padding='same', activation='relu'))\n",
        "    model.add(Conv2D(64, (3, 3), padding='same', strides=2, activation='relu'))\n",
        "    model.add(BatchNormalization())\n",
        "\n",
        "    model.add(Conv2D(128, (3, 3), padding='same', activation='relu', strides=2))\n",
        "    model.add(Conv2D(128, (3, 3), padding='same', activation='relu'))\n",
        "    model.add(BatchNormalization())\n",
        "\n",
        "    model.add(Conv2D(256, (3, 3), padding='same'))\n",
        "    model.add(Activation('relu'))\n",
        "    model.add(BatchNormalization())\n",
        "\n",
        "    model.add(UpSampling2D(size=(2,2)))\n",
        "    model.add(Conv2D(128, (3, 3), padding='same', activation='relu'))\n",
        "    model.add(BatchNormalization())\n",
        "\n",
        "    model.add(UpSampling2D(size=(2,2)))\n",
        "    model.add(Conv2D(64, (3, 3), padding='same', activation='relu'))\n",
        "    model.add(BatchNormalization())\n",
        "\n",
        "    model.add(Conv2D(32, (3, 3), padding='same', activation='relu'))\n",
        "    model.add(Conv2D(2, (3, 3), padding='same'))\n",
        "    model.add(BatchNormalization())\n",
        "    model.add(Activation('tanh'))\n",
        "\n",
        "    return model\n"
      ],
      "metadata": {
        "id": "9AOff2xdZGu5"
      },
      "execution_count": 228,
      "outputs": []
    },
    {
      "cell_type": "code",
      "source": [
        "def make_discriminator_model():\n",
        "    model = Sequential()\n",
        "\n",
        "    model.add(Reshape((32, 32, 1), input_shape=(32, 32, 1)))\n",
        "\n",
        "    model.add(Conv2D(64, (5, 5), strides=(2, 2), padding='same', input_shape=(32, 32, 3)))\n",
        "    model.add(LeakyReLU(0.2))\n",
        "    model.add(Dropout(0.3))\n",
        "\n",
        "    model.add(Conv2D(128, (5, 5), strides=(2, 2), padding='same'))\n",
        "    model.add(LeakyReLU(0.2))\n",
        "    model.add(Dropout(0.3))\n",
        "\n",
        "    model.add(Flatten())\n",
        "    model.add(Dense(1))\n",
        "\n",
        "    return model"
      ],
      "metadata": {
        "id": "3C88pgsrZMMj"
      },
      "execution_count": 229,
      "outputs": []
    },
    {
      "cell_type": "code",
      "source": [
        "cross_entropy = tf.keras.losses.BinaryCrossentropy(from_logits=True)"
      ],
      "metadata": {
        "id": "tfyAwljlQH5S"
      },
      "execution_count": 230,
      "outputs": []
    },
    {
      "cell_type": "code",
      "source": [
        "def discriminator_loss(real_output, fake_output):\n",
        "    real_loss = cross_entropy(tf.ones_like(real_output), real_output)\n",
        "    fake_loss = cross_entropy(tf.zeros_like(fake_output), fake_output)\n",
        "    total_loss = real_loss + fake_loss\n",
        "    return total_loss"
      ],
      "metadata": {
        "id": "1PLGgVw7P_NG"
      },
      "execution_count": 231,
      "outputs": []
    },
    {
      "cell_type": "code",
      "source": [
        "def generator_loss(fake_output):\n",
        "    return cross_entropy(tf.ones_like(fake_output), fake_output)"
      ],
      "metadata": {
        "id": "k2j7QkO9P_er"
      },
      "execution_count": 232,
      "outputs": []
    },
    {
      "cell_type": "code",
      "source": [
        "\"\"\"\n",
        "# worth considering\n",
        "\n",
        "def discriminator_loss(disc_real_output, disc_generated_output):\n",
        "    real_loss = cross_entropy(tf.ones_like(disc_real_output), disc_real_output)\n",
        "    generated_loss = cross_entropy(tf.zeros_like(disc_generated_output), disc_generated_output)\n",
        "    total_disc_loss = real_loss + generated_loss\n",
        "    return total_disc_loss\n",
        "\n",
        "\n",
        "def generator_loss(disc_generated_output, gen_output, target):\n",
        "    gan_loss = cross_entropy(tf.ones_like(disc_generated_output), disc_generated_output)\n",
        "    # mean absolute error\n",
        "    l1_loss = tf.reduce_mean(tf.abs(target - gen_output))\n",
        "    total_gen_loss = gan_loss + (LAMBDA * l1_loss)\n",
        "    return total_gen_loss, gan_loss, l1_loss\n",
        "\"\"\""
      ],
      "metadata": {
        "colab": {
          "base_uri": "https://localhost:8080/",
          "height": 87
        },
        "id": "XK82TTXwQA5v",
        "outputId": "f9f40479-9024-4311-b75c-191f880db2a0"
      },
      "execution_count": 233,
      "outputs": [
        {
          "output_type": "execute_result",
          "data": {
            "text/plain": [
              "'\\n# worth considering \\n\\ndef discriminator_loss(disc_real_output, disc_generated_output):\\n    real_loss = cross_entropy(tf.ones_like(disc_real_output), disc_real_output)\\n    generated_loss = cross_entropy(tf.zeros_like(disc_generated_output), disc_generated_output)\\n    total_disc_loss = real_loss + generated_loss\\n    return total_disc_loss\\n\\n\\ndef generator_loss(disc_generated_output, gen_output, target):\\n    gan_loss = cross_entropy(tf.ones_like(disc_generated_output), disc_generated_output)\\n    # mean absolute error\\n    l1_loss = tf.reduce_mean(tf.abs(target - gen_output))\\n    total_gen_loss = gan_loss + (LAMBDA * l1_loss)\\n    return total_gen_loss, gan_loss, l1_loss\\n'"
            ],
            "application/vnd.google.colaboratory.intrinsic+json": {
              "type": "string"
            }
          },
          "metadata": {},
          "execution_count": 233
        }
      ]
    },
    {
      "cell_type": "code",
      "source": [],
      "metadata": {
        "id": "iDoaMpcIQQH7"
      },
      "execution_count": 233,
      "outputs": []
    },
    {
      "cell_type": "markdown",
      "source": [
        "## Training"
      ],
      "metadata": {
        "id": "dOFZ5F6Eb-QV"
      }
    },
    {
      "cell_type": "code",
      "source": [
        "WORKDIR = \"/content/checkpoints\"\n",
        "IMAGE_SIZE = 32\n",
        "\n",
        "generator = make_generator_model()\n",
        "discriminator = make_discriminator_model()\n",
        "\n",
        "generator_optimizer = tf.keras.optimizers.Adam(2e-4, beta_1=0.5)\n",
        "discriminator_optimizer = tf.keras.optimizers.Adam(2e-4, beta_1=0.5)\n",
        "\n",
        "checkpoint_dir = os.path.join(WORKDIR, 'training-checkpoints')\n",
        "checkpoint_prefix = os.path.join(checkpoint_dir, \"ckpt\")\n",
        "checkpoint = tf.train.Checkpoint(generator_optimizer=generator_optimizer,\n",
        "                                 discriminator_optimizer=discriminator_optimizer,\n",
        "                                 generator=generator,\n",
        "                                 discriminator=discriminator)\n",
        "manager = tf.train.CheckpointManager(checkpoint, checkpoint_dir, max_to_keep=3)\n",
        ""
      ],
      "metadata": {
        "id": "cze2z2axb-se"
      },
      "execution_count": 234,
      "outputs": []
    },
    {
      "cell_type": "code",
      "source": [
        "summary_log_file = os.path.join(\n",
        "    WORKDIR, 'tf-summary', datetime.now().strftime(\"%Y%m%d-%H%M%S\"))\n",
        "summary_writer = tf.summary.create_file_writer(summary_log_file)\n",
        "\n",
        "@tf.function\n",
        "def train_step(input_image, target, epoch):\n",
        "    with tf.GradientTape() as gen_tape, tf.GradientTape() as disc_tape:\n",
        "\n",
        "        generator.summary()\n",
        "        discriminator.summary()\n",
        "\n",
        "        gen_output = generator(input_image, training=True)\n",
        "\n",
        "        disc_real_output = discriminator(tf.keras.layers.concatenate([input_image, target]), training=True)\n",
        "        disc_generated_output = discriminator(tf.keras.layers.concatenate([input_image, gen_output]), training=True)\n",
        "\n",
        "        gen_total_loss, gen_gan_loss, gen_l1_loss = generator_loss(\n",
        "            disc_generated_output, gen_output, target)\n",
        "        disc_loss = discriminator_loss(disc_real_output, disc_generated_output)\n",
        "\n",
        "    generator_gradients = gen_tape.gradient(gen_total_loss,\n",
        "                                            generator.trainable_variables)\n",
        "    discriminator_gradients = disc_tape.gradient(disc_loss,\n",
        "                                                 discriminator.trainable_variables)\n",
        "\n",
        "    generator_optimizer.apply_gradients(zip(generator_gradients,\n",
        "                                          generator.trainable_variables))\n",
        "    discriminator_optimizer.apply_gradients(zip(discriminator_gradients,\n",
        "                                              discriminator.trainable_variables))\n",
        "\n",
        "    with summary_writer.as_default():\n",
        "        tf.summary.scalar('gen_total_loss', gen_total_loss, step=epoch)\n",
        "        tf.summary.scalar('gen_gan_loss', gen_gan_loss, step=epoch)\n",
        "        tf.summary.scalar('gen_l1_loss', gen_l1_loss, step=epoch)\n",
        "        tf.summary.scalar('disc_loss', disc_loss, step=epoch)\n",
        "\n",
        "    return gen_total_loss, disc_loss\n",
        "\n"
      ],
      "metadata": {
        "id": "0sjlppVicJHh"
      },
      "execution_count": 235,
      "outputs": []
    },
    {
      "cell_type": "code",
      "source": [
        "checkpoint.restore(manager.latest_checkpoint)\n",
        "if manager.latest_checkpoint:\n",
        "    print('[+] Restored from {}'.format(manager.latest_checkpoint))\n",
        "else:\n",
        "    print('[+] Initializing from scratch')"
      ],
      "metadata": {
        "colab": {
          "base_uri": "https://localhost:8080/"
        },
        "id": "I_dyGq3OeX8N",
        "outputId": "bd1391d6-0c57-433a-85de-3e38cef0d02d"
      },
      "execution_count": 236,
      "outputs": [
        {
          "output_type": "stream",
          "name": "stdout",
          "text": [
            "[+] Initializing from scratch\n"
          ]
        }
      ]
    },
    {
      "cell_type": "markdown",
      "source": [
        "Some constants are needed for the training to take place:"
      ],
      "metadata": {
        "id": "FLiBhkE3ja4O"
      }
    },
    {
      "cell_type": "code",
      "source": [
        "IMAGE_SIZE = 32\n",
        "EPOCHS = 150\n",
        "BATCH_SIZE = 128\n",
        "SHUFFLE_BUFFER_SIZE = 100"
      ],
      "metadata": {
        "id": "T39IeDJOjaon"
      },
      "execution_count": 238,
      "outputs": []
    },
    {
      "cell_type": "code",
      "source": [
        "for e in range(EPOCHS):\n",
        "    start_time = time()\n",
        "    gen_loss_total = disc_loss_total = 0\n",
        "\n",
        "\n",
        "    for input_image, target in train_dataset:\n",
        "        gen_loss, disc_loss = train_step(input_image, target, e)\n",
        "        gen_loss_total += gen_loss\n",
        "        disc_loss_total += disc_loss\n",
        "\n",
        "    time_taken = time() - start_time\n",
        "\n",
        "    if (e + 1) % 10 == 0:\n",
        "        checkpoint.save(file_prefix=checkpoint_prefix)\n",
        "\n",
        "    print('[+] Epoch {}: gen loss: {}, disc loss: {}, time: {:.2f}s'.format(\n",
        "         e + 1, gen_loss_total / BATCH_SIZE, disc_loss_total / BATCH_SIZE, time_taken))\n",
        ""
      ],
      "metadata": {
        "colab": {
          "base_uri": "https://localhost:8080/",
          "height": 1000
        },
        "id": "dvPrA4VWjOVb",
        "outputId": "91e77586-4625-4174-ef7f-c2a6b249f68b"
      },
      "execution_count": 239,
      "outputs": [
        {
          "output_type": "stream",
          "name": "stdout",
          "text": [
            "Model: \"sequential_17\"\n",
            "_________________________________________________________________\n",
            " Layer (type)                Output Shape              Param #   \n",
            "=================================================================\n",
            " reshape_1 (Reshape)         (None, 32, 32, 1)         0         \n",
            "                                                                 \n",
            " conv2d_78 (Conv2D)          (None, 32, 32, 32)        320       \n",
            "                                                                 \n",
            " conv2d_79 (Conv2D)          (None, 16, 16, 64)        18496     \n",
            "                                                                 \n",
            " batch_normalization_42 (Ba  (None, 16, 16, 64)        256       \n",
            " tchNormalization)                                               \n",
            "                                                                 \n",
            " conv2d_80 (Conv2D)          (None, 8, 8, 128)         73856     \n",
            "                                                                 \n",
            " conv2d_81 (Conv2D)          (None, 8, 8, 128)         147584    \n",
            "                                                                 \n",
            " batch_normalization_43 (Ba  (None, 8, 8, 128)         512       \n",
            " tchNormalization)                                               \n",
            "                                                                 \n",
            " conv2d_82 (Conv2D)          (None, 8, 8, 256)         295168    \n",
            "                                                                 \n",
            " activation_14 (Activation)  (None, 8, 8, 256)         0         \n",
            "                                                                 \n",
            " batch_normalization_44 (Ba  (None, 8, 8, 256)         1024      \n",
            " tchNormalization)                                               \n",
            "                                                                 \n",
            " up_sampling2d_14 (UpSampli  (None, 16, 16, 256)       0         \n",
            " ng2D)                                                           \n",
            "                                                                 \n",
            " conv2d_83 (Conv2D)          (None, 16, 16, 128)       295040    \n",
            "                                                                 \n",
            " batch_normalization_45 (Ba  (None, 16, 16, 128)       512       \n",
            " tchNormalization)                                               \n",
            "                                                                 \n",
            " up_sampling2d_15 (UpSampli  (None, 32, 32, 128)       0         \n",
            " ng2D)                                                           \n",
            "                                                                 \n",
            " conv2d_84 (Conv2D)          (None, 32, 32, 64)        73792     \n",
            "                                                                 \n",
            " batch_normalization_46 (Ba  (None, 32, 32, 64)        256       \n",
            " tchNormalization)                                               \n",
            "                                                                 \n",
            " conv2d_85 (Conv2D)          (None, 32, 32, 32)        18464     \n",
            "                                                                 \n",
            " conv2d_86 (Conv2D)          (None, 32, 32, 2)         578       \n",
            "                                                                 \n",
            " batch_normalization_47 (Ba  (None, 32, 32, 2)         8         \n",
            " tchNormalization)                                               \n",
            "                                                                 \n",
            " activation_15 (Activation)  (None, 32, 32, 2)         0         \n",
            "                                                                 \n",
            "=================================================================\n",
            "Total params: 925866 (3.53 MB)\n",
            "Trainable params: 924582 (3.53 MB)\n",
            "Non-trainable params: 1284 (5.02 KB)\n",
            "_________________________________________________________________\n",
            "Model: \"sequential_18\"\n",
            "_________________________________________________________________\n",
            " Layer (type)                Output Shape              Param #   \n",
            "=================================================================\n",
            " reshape_2 (Reshape)         (None, 32, 32, 1)         0         \n",
            "                                                                 \n",
            " conv2d_87 (Conv2D)          (None, 16, 16, 64)        1664      \n",
            "                                                                 \n",
            " leaky_re_lu_14 (LeakyReLU)  (None, 16, 16, 64)        0         \n",
            "                                                                 \n",
            " dropout_14 (Dropout)        (None, 16, 16, 64)        0         \n",
            "                                                                 \n",
            " conv2d_88 (Conv2D)          (None, 8, 8, 128)         204928    \n",
            "                                                                 \n",
            " leaky_re_lu_15 (LeakyReLU)  (None, 8, 8, 128)         0         \n",
            "                                                                 \n",
            " dropout_15 (Dropout)        (None, 8, 8, 128)         0         \n",
            "                                                                 \n",
            " flatten_7 (Flatten)         (None, 8192)              0         \n",
            "                                                                 \n",
            " dense_7 (Dense)             (None, 1)                 8193      \n",
            "                                                                 \n",
            "=================================================================\n",
            "Total params: 214785 (839.00 KB)\n",
            "Trainable params: 214785 (839.00 KB)\n",
            "Non-trainable params: 0 (0.00 Byte)\n",
            "_________________________________________________________________\n"
          ]
        },
        {
          "output_type": "error",
          "ename": "ValueError",
          "evalue": "in user code:\n\n    File \"<ipython-input-235-af2219b05a07>\", line 12, in train_step  *\n        gen_output = generator(input_image, training=True)\n    File \"/usr/local/lib/python3.10/dist-packages/keras/src/utils/traceback_utils.py\", line 70, in error_handler  **\n        raise e.with_traceback(filtered_tb) from None\n\n    ValueError: Exception encountered when calling layer 'reshape_1' (type Reshape).\n    \n    Cannot reshape a tensor with 1024 elements to shape [32,32,32,1] (32768 elements) for '{{node sequential_17/reshape_1/Reshape}} = Reshape[T=DT_FLOAT, Tshape=DT_INT32](sequential_17/Cast, sequential_17/reshape_1/Reshape/shape)' with input shapes: [32,32], [4] and with input tensors computed as partial shapes: input[1] = [32,32,32,1].\n    \n    Call arguments received by layer 'reshape_1' (type Reshape):\n      • inputs=tf.Tensor(shape=(32, 32), dtype=float32)\n",
          "traceback": [
            "\u001b[0;31m---------------------------------------------------------------------------\u001b[0m",
            "\u001b[0;31mValueError\u001b[0m                                Traceback (most recent call last)",
            "\u001b[0;32m<ipython-input-239-e458ccd11a96>\u001b[0m in \u001b[0;36m<cell line: 1>\u001b[0;34m()\u001b[0m\n\u001b[1;32m      5\u001b[0m \u001b[0;34m\u001b[0m\u001b[0m\n\u001b[1;32m      6\u001b[0m     \u001b[0;32mfor\u001b[0m \u001b[0minput_image\u001b[0m\u001b[0;34m,\u001b[0m \u001b[0mtarget\u001b[0m \u001b[0;32min\u001b[0m \u001b[0mtrain_dataset\u001b[0m\u001b[0;34m:\u001b[0m\u001b[0;34m\u001b[0m\u001b[0;34m\u001b[0m\u001b[0m\n\u001b[0;32m----> 7\u001b[0;31m         \u001b[0mgen_loss\u001b[0m\u001b[0;34m,\u001b[0m \u001b[0mdisc_loss\u001b[0m \u001b[0;34m=\u001b[0m \u001b[0mtrain_step\u001b[0m\u001b[0;34m(\u001b[0m\u001b[0minput_image\u001b[0m\u001b[0;34m,\u001b[0m \u001b[0mtarget\u001b[0m\u001b[0;34m,\u001b[0m \u001b[0me\u001b[0m\u001b[0;34m)\u001b[0m\u001b[0;34m\u001b[0m\u001b[0;34m\u001b[0m\u001b[0m\n\u001b[0m\u001b[1;32m      8\u001b[0m         \u001b[0mgen_loss_total\u001b[0m \u001b[0;34m+=\u001b[0m \u001b[0mgen_loss\u001b[0m\u001b[0;34m\u001b[0m\u001b[0;34m\u001b[0m\u001b[0m\n\u001b[1;32m      9\u001b[0m         \u001b[0mdisc_loss_total\u001b[0m \u001b[0;34m+=\u001b[0m \u001b[0mdisc_loss\u001b[0m\u001b[0;34m\u001b[0m\u001b[0;34m\u001b[0m\u001b[0m\n",
            "\u001b[0;32m/usr/local/lib/python3.10/dist-packages/tensorflow/python/util/traceback_utils.py\u001b[0m in \u001b[0;36merror_handler\u001b[0;34m(*args, **kwargs)\u001b[0m\n\u001b[1;32m    151\u001b[0m     \u001b[0;32mexcept\u001b[0m \u001b[0mException\u001b[0m \u001b[0;32mas\u001b[0m \u001b[0me\u001b[0m\u001b[0;34m:\u001b[0m\u001b[0;34m\u001b[0m\u001b[0;34m\u001b[0m\u001b[0m\n\u001b[1;32m    152\u001b[0m       \u001b[0mfiltered_tb\u001b[0m \u001b[0;34m=\u001b[0m \u001b[0m_process_traceback_frames\u001b[0m\u001b[0;34m(\u001b[0m\u001b[0me\u001b[0m\u001b[0;34m.\u001b[0m\u001b[0m__traceback__\u001b[0m\u001b[0;34m)\u001b[0m\u001b[0;34m\u001b[0m\u001b[0;34m\u001b[0m\u001b[0m\n\u001b[0;32m--> 153\u001b[0;31m       \u001b[0;32mraise\u001b[0m \u001b[0me\u001b[0m\u001b[0;34m.\u001b[0m\u001b[0mwith_traceback\u001b[0m\u001b[0;34m(\u001b[0m\u001b[0mfiltered_tb\u001b[0m\u001b[0;34m)\u001b[0m \u001b[0;32mfrom\u001b[0m \u001b[0;32mNone\u001b[0m\u001b[0;34m\u001b[0m\u001b[0;34m\u001b[0m\u001b[0m\n\u001b[0m\u001b[1;32m    154\u001b[0m     \u001b[0;32mfinally\u001b[0m\u001b[0;34m:\u001b[0m\u001b[0;34m\u001b[0m\u001b[0;34m\u001b[0m\u001b[0m\n\u001b[1;32m    155\u001b[0m       \u001b[0;32mdel\u001b[0m \u001b[0mfiltered_tb\u001b[0m\u001b[0;34m\u001b[0m\u001b[0;34m\u001b[0m\u001b[0m\n",
            "\u001b[0;32m/tmp/__autograph_generated_filegvsmsmuk.py\u001b[0m in \u001b[0;36mtf__train_step\u001b[0;34m(input_image, target, epoch)\u001b[0m\n\u001b[1;32m     11\u001b[0m                     \u001b[0mag__\u001b[0m\u001b[0;34m.\u001b[0m\u001b[0mconverted_call\u001b[0m\u001b[0;34m(\u001b[0m\u001b[0mag__\u001b[0m\u001b[0;34m.\u001b[0m\u001b[0mld\u001b[0m\u001b[0;34m(\u001b[0m\u001b[0mgenerator\u001b[0m\u001b[0;34m)\u001b[0m\u001b[0;34m.\u001b[0m\u001b[0msummary\u001b[0m\u001b[0;34m,\u001b[0m \u001b[0;34m(\u001b[0m\u001b[0;34m)\u001b[0m\u001b[0;34m,\u001b[0m \u001b[0;32mNone\u001b[0m\u001b[0;34m,\u001b[0m \u001b[0mfscope\u001b[0m\u001b[0;34m)\u001b[0m\u001b[0;34m\u001b[0m\u001b[0;34m\u001b[0m\u001b[0m\n\u001b[1;32m     12\u001b[0m                     \u001b[0mag__\u001b[0m\u001b[0;34m.\u001b[0m\u001b[0mconverted_call\u001b[0m\u001b[0;34m(\u001b[0m\u001b[0mag__\u001b[0m\u001b[0;34m.\u001b[0m\u001b[0mld\u001b[0m\u001b[0;34m(\u001b[0m\u001b[0mdiscriminator\u001b[0m\u001b[0;34m)\u001b[0m\u001b[0;34m.\u001b[0m\u001b[0msummary\u001b[0m\u001b[0;34m,\u001b[0m \u001b[0;34m(\u001b[0m\u001b[0;34m)\u001b[0m\u001b[0;34m,\u001b[0m \u001b[0;32mNone\u001b[0m\u001b[0;34m,\u001b[0m \u001b[0mfscope\u001b[0m\u001b[0;34m)\u001b[0m\u001b[0;34m\u001b[0m\u001b[0;34m\u001b[0m\u001b[0m\n\u001b[0;32m---> 13\u001b[0;31m                     \u001b[0mgen_output\u001b[0m \u001b[0;34m=\u001b[0m \u001b[0mag__\u001b[0m\u001b[0;34m.\u001b[0m\u001b[0mconverted_call\u001b[0m\u001b[0;34m(\u001b[0m\u001b[0mag__\u001b[0m\u001b[0;34m.\u001b[0m\u001b[0mld\u001b[0m\u001b[0;34m(\u001b[0m\u001b[0mgenerator\u001b[0m\u001b[0;34m)\u001b[0m\u001b[0;34m,\u001b[0m \u001b[0;34m(\u001b[0m\u001b[0mag__\u001b[0m\u001b[0;34m.\u001b[0m\u001b[0mld\u001b[0m\u001b[0;34m(\u001b[0m\u001b[0minput_image\u001b[0m\u001b[0;34m)\u001b[0m\u001b[0;34m,\u001b[0m\u001b[0;34m)\u001b[0m\u001b[0;34m,\u001b[0m \u001b[0mdict\u001b[0m\u001b[0;34m(\u001b[0m\u001b[0mtraining\u001b[0m\u001b[0;34m=\u001b[0m\u001b[0;32mTrue\u001b[0m\u001b[0;34m)\u001b[0m\u001b[0;34m,\u001b[0m \u001b[0mfscope\u001b[0m\u001b[0;34m)\u001b[0m\u001b[0;34m\u001b[0m\u001b[0;34m\u001b[0m\u001b[0m\n\u001b[0m\u001b[1;32m     14\u001b[0m                     \u001b[0mdisc_real_output\u001b[0m \u001b[0;34m=\u001b[0m \u001b[0mag__\u001b[0m\u001b[0;34m.\u001b[0m\u001b[0mconverted_call\u001b[0m\u001b[0;34m(\u001b[0m\u001b[0mag__\u001b[0m\u001b[0;34m.\u001b[0m\u001b[0mld\u001b[0m\u001b[0;34m(\u001b[0m\u001b[0mdiscriminator\u001b[0m\u001b[0;34m)\u001b[0m\u001b[0;34m,\u001b[0m \u001b[0;34m(\u001b[0m\u001b[0mag__\u001b[0m\u001b[0;34m.\u001b[0m\u001b[0mconverted_call\u001b[0m\u001b[0;34m(\u001b[0m\u001b[0mag__\u001b[0m\u001b[0;34m.\u001b[0m\u001b[0mld\u001b[0m\u001b[0;34m(\u001b[0m\u001b[0mtf\u001b[0m\u001b[0;34m)\u001b[0m\u001b[0;34m.\u001b[0m\u001b[0mkeras\u001b[0m\u001b[0;34m.\u001b[0m\u001b[0mlayers\u001b[0m\u001b[0;34m.\u001b[0m\u001b[0mconcatenate\u001b[0m\u001b[0;34m,\u001b[0m \u001b[0;34m(\u001b[0m\u001b[0;34m[\u001b[0m\u001b[0mag__\u001b[0m\u001b[0;34m.\u001b[0m\u001b[0mld\u001b[0m\u001b[0;34m(\u001b[0m\u001b[0minput_image\u001b[0m\u001b[0;34m)\u001b[0m\u001b[0;34m,\u001b[0m \u001b[0mag__\u001b[0m\u001b[0;34m.\u001b[0m\u001b[0mld\u001b[0m\u001b[0;34m(\u001b[0m\u001b[0mtarget\u001b[0m\u001b[0;34m)\u001b[0m\u001b[0;34m]\u001b[0m\u001b[0;34m,\u001b[0m\u001b[0;34m)\u001b[0m\u001b[0;34m,\u001b[0m \u001b[0;32mNone\u001b[0m\u001b[0;34m,\u001b[0m \u001b[0mfscope\u001b[0m\u001b[0;34m)\u001b[0m\u001b[0;34m,\u001b[0m\u001b[0;34m)\u001b[0m\u001b[0;34m,\u001b[0m \u001b[0mdict\u001b[0m\u001b[0;34m(\u001b[0m\u001b[0mtraining\u001b[0m\u001b[0;34m=\u001b[0m\u001b[0;32mTrue\u001b[0m\u001b[0;34m)\u001b[0m\u001b[0;34m,\u001b[0m \u001b[0mfscope\u001b[0m\u001b[0;34m)\u001b[0m\u001b[0;34m\u001b[0m\u001b[0;34m\u001b[0m\u001b[0m\n\u001b[1;32m     15\u001b[0m                     \u001b[0mdisc_generated_output\u001b[0m \u001b[0;34m=\u001b[0m \u001b[0mag__\u001b[0m\u001b[0;34m.\u001b[0m\u001b[0mconverted_call\u001b[0m\u001b[0;34m(\u001b[0m\u001b[0mag__\u001b[0m\u001b[0;34m.\u001b[0m\u001b[0mld\u001b[0m\u001b[0;34m(\u001b[0m\u001b[0mdiscriminator\u001b[0m\u001b[0;34m)\u001b[0m\u001b[0;34m,\u001b[0m \u001b[0;34m(\u001b[0m\u001b[0mag__\u001b[0m\u001b[0;34m.\u001b[0m\u001b[0mconverted_call\u001b[0m\u001b[0;34m(\u001b[0m\u001b[0mag__\u001b[0m\u001b[0;34m.\u001b[0m\u001b[0mld\u001b[0m\u001b[0;34m(\u001b[0m\u001b[0mtf\u001b[0m\u001b[0;34m)\u001b[0m\u001b[0;34m.\u001b[0m\u001b[0mkeras\u001b[0m\u001b[0;34m.\u001b[0m\u001b[0mlayers\u001b[0m\u001b[0;34m.\u001b[0m\u001b[0mconcatenate\u001b[0m\u001b[0;34m,\u001b[0m \u001b[0;34m(\u001b[0m\u001b[0;34m[\u001b[0m\u001b[0mag__\u001b[0m\u001b[0;34m.\u001b[0m\u001b[0mld\u001b[0m\u001b[0;34m(\u001b[0m\u001b[0minput_image\u001b[0m\u001b[0;34m)\u001b[0m\u001b[0;34m,\u001b[0m \u001b[0mag__\u001b[0m\u001b[0;34m.\u001b[0m\u001b[0mld\u001b[0m\u001b[0;34m(\u001b[0m\u001b[0mgen_output\u001b[0m\u001b[0;34m)\u001b[0m\u001b[0;34m]\u001b[0m\u001b[0;34m,\u001b[0m\u001b[0;34m)\u001b[0m\u001b[0;34m,\u001b[0m \u001b[0;32mNone\u001b[0m\u001b[0;34m,\u001b[0m \u001b[0mfscope\u001b[0m\u001b[0;34m)\u001b[0m\u001b[0;34m,\u001b[0m\u001b[0;34m)\u001b[0m\u001b[0;34m,\u001b[0m \u001b[0mdict\u001b[0m\u001b[0;34m(\u001b[0m\u001b[0mtraining\u001b[0m\u001b[0;34m=\u001b[0m\u001b[0;32mTrue\u001b[0m\u001b[0;34m)\u001b[0m\u001b[0;34m,\u001b[0m \u001b[0mfscope\u001b[0m\u001b[0;34m)\u001b[0m\u001b[0;34m\u001b[0m\u001b[0;34m\u001b[0m\u001b[0m\n",
            "\u001b[0;32m/usr/local/lib/python3.10/dist-packages/keras/src/utils/traceback_utils.py\u001b[0m in \u001b[0;36merror_handler\u001b[0;34m(*args, **kwargs)\u001b[0m\n\u001b[1;32m     68\u001b[0m             \u001b[0;31m# To get the full stack trace, call:\u001b[0m\u001b[0;34m\u001b[0m\u001b[0;34m\u001b[0m\u001b[0m\n\u001b[1;32m     69\u001b[0m             \u001b[0;31m# `tf.debugging.disable_traceback_filtering()`\u001b[0m\u001b[0;34m\u001b[0m\u001b[0;34m\u001b[0m\u001b[0m\n\u001b[0;32m---> 70\u001b[0;31m             \u001b[0;32mraise\u001b[0m \u001b[0me\u001b[0m\u001b[0;34m.\u001b[0m\u001b[0mwith_traceback\u001b[0m\u001b[0;34m(\u001b[0m\u001b[0mfiltered_tb\u001b[0m\u001b[0;34m)\u001b[0m \u001b[0;32mfrom\u001b[0m \u001b[0;32mNone\u001b[0m\u001b[0;34m\u001b[0m\u001b[0;34m\u001b[0m\u001b[0m\n\u001b[0m\u001b[1;32m     71\u001b[0m         \u001b[0;32mfinally\u001b[0m\u001b[0;34m:\u001b[0m\u001b[0;34m\u001b[0m\u001b[0;34m\u001b[0m\u001b[0m\n\u001b[1;32m     72\u001b[0m             \u001b[0;32mdel\u001b[0m \u001b[0mfiltered_tb\u001b[0m\u001b[0;34m\u001b[0m\u001b[0;34m\u001b[0m\u001b[0m\n",
            "\u001b[0;31mValueError\u001b[0m: in user code:\n\n    File \"<ipython-input-235-af2219b05a07>\", line 12, in train_step  *\n        gen_output = generator(input_image, training=True)\n    File \"/usr/local/lib/python3.10/dist-packages/keras/src/utils/traceback_utils.py\", line 70, in error_handler  **\n        raise e.with_traceback(filtered_tb) from None\n\n    ValueError: Exception encountered when calling layer 'reshape_1' (type Reshape).\n    \n    Cannot reshape a tensor with 1024 elements to shape [32,32,32,1] (32768 elements) for '{{node sequential_17/reshape_1/Reshape}} = Reshape[T=DT_FLOAT, Tshape=DT_INT32](sequential_17/Cast, sequential_17/reshape_1/Reshape/shape)' with input shapes: [32,32], [4] and with input tensors computed as partial shapes: input[1] = [32,32,32,1].\n    \n    Call arguments received by layer 'reshape_1' (type Reshape):\n      • inputs=tf.Tensor(shape=(32, 32), dtype=float32)\n"
          ]
        }
      ]
    },
    {
      "cell_type": "code",
      "source": [],
      "metadata": {
        "id": "eOAlSMFAjjvn"
      },
      "execution_count": null,
      "outputs": []
    }
  ]
}